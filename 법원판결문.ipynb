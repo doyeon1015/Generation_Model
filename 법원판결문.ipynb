{
 "cells": [
  {
   "cell_type": "code",
   "execution_count": 1,
   "id": "d33372d9",
   "metadata": {},
   "outputs": [],
   "source": [
    "import zipfile\n",
    "import os\n",
    "import json\n",
    "import pandas as pd\n",
    "import numpy as np\n",
    "import re"
   ]
  },
  {
   "cell_type": "code",
   "execution_count": 21,
   "id": "4195d6e2",
   "metadata": {
    "scrolled": true
   },
   "outputs": [],
   "source": [
    "with open('train_original.json', encoding='UTF-8' ) as file:\n",
    "    data = json.load(file)"
   ]
  },
  {
   "cell_type": "code",
   "execution_count": 5,
   "id": "74b3ca2d",
   "metadata": {
    "scrolled": true
   },
   "outputs": [
    {
     "name": "stdout",
     "output_type": "stream",
     "text": [
      "['원고가 소속회사의 노동조합에서 분규가 발생하자 노조활동을 구실로 정상적인 근무를 해태하고,', '노조조합장이 사임한 경우,', '노동조합규약에 동 조합장의 직무를 대행할 자를 규정해 두고 있음에도 원고 자신이 주동하여 노조자치수습대책위원회를 구성하여 그 위원장으로 피선되어 근무시간중에도 노조활동을 벌여 운수업체인 소속회사의 업무에 지장을 초래하고', '종업원들에게도 나쁜 영향을 끼쳐 소속회사가 취업규칙을 위반하고', '고의로 회사업무능률을 저해하였으며 회사업무상의 지휘명령에 위반하였음을 이유로 원고를 징계해고 하였다면,', '이는 원고의 노동조합 활동과는 관계없이 회사취업규칙에 의하여 사내질서를 유지하기 위한 사용자 고유의 징계권에 기하여 이루어진 정당한 징계권의 행사로 보아야 한다.']\n",
      "\n",
      "['원고가  주동하여 회사업무능률을 저해하고 회사업무상의 지휘명령에 위반하였다면 이에 따른 징계해고는 사내질서를 유지하기 위한 사용자 고유의 정당한 징계권의 행사로 보아야 한다.']\n"
     ]
    }
   ],
   "source": [
    "# 판결문 본문&요약문\n",
    "text1 = data['documents'][0]['text']\n",
    "abstractive1 = data['documents'][0]['abstractive']\n",
    "\n",
    "sentences1 = [item['sentence'] for sublist in text1 for item in sublist]\n",
    "print(sentences1)\n",
    "\n",
    "print()\n",
    "\n",
    "print(abstractive1)"
   ]
  },
  {
   "cell_type": "code",
   "execution_count": 12,
   "id": "df03f5cf",
   "metadata": {},
   "outputs": [
    {
     "data": {
      "text/plain": [
       "24329"
      ]
     },
     "execution_count": 12,
     "metadata": {},
     "output_type": "execute_result"
    }
   ],
   "source": [
    "len(data['documents'])"
   ]
  },
  {
   "cell_type": "code",
   "execution_count": 27,
   "id": "9bba7285",
   "metadata": {
    "scrolled": true
   },
   "outputs": [
    {
     "name": "stdout",
     "output_type": "stream",
     "text": [
      "[['원고가 소속회사의 노동조합에서 분규가 발생하자 노조활동을 구실로 정상적인 근무를 해태하고,', '노조조합장이 사임한 경우,', '노동조합규약에 동 조합장의 직무를 대행할 자를 규정해 두고 있음에도 원고 자신이 주동하여 노조자치수습대책위원회를 구성하여 그 위원장으로 피선되어 근무시간중에도 노조활동을 벌여 운수업체인 소속회사의 업무에 지장을 초래하고', '종업원들에게도 나쁜 영향을 끼쳐 소속회사가 취업규칙을 위반하고', '고의로 회사업무능률을 저해하였으며 회사업무상의 지휘명령에 위반하였음을 이유로 원고를 징계해고 하였다면,', '이는 원고의 노동조합 활동과는 관계없이 회사취업규칙에 의하여 사내질서를 유지하기 위한 사용자 고유의 징계권에 기하여 이루어진 정당한 징계권의 행사로 보아야 한다.'], ['수출입업체인 원고가 의류제품을 제조ㆍ수출함에 있어 같은 그룹내 종합무역상사인 소외 회사의 직수출실적을 지원하기 위하여 동 회사와 수출대행계약을 체결하고', '동 회사를 수익자로 하여 신용장을 개설한 후 동 회사명의로 제품을 수출하면서 그 수출물품에 관하여 소외 회사는 원고로부터 세금계산서를 교부받지 않았을 뿐 아니라,', '부가가치세신고시 이를 수출로 신고하지 않았고,', '외화수입금도 원신용장상 수익자인 소외 회사에 입금되나 당해은행에서 매수 즉시,', '원화로 원고의 당좌계정에 입금되고 소외 회사는 대행수수료만 받아왔다면', '소외 회사는 수출에 실지 참여한 바 없이 원고의 수출대행을 한 자로 명목상의 수출자에 불과할 뿐 원고가 이를 실질적으로 수출하여 그 대금에 해당하는 외화를 수입하였다 할 것이므로,', '원고는 구 법인세법시행령(1983.12.31 대통령령 제10119호로 개정되기 전의 령) 제17조 제1항 제1호 소정의 수출사업을 영위하는 법인에 해당되어 그 수출금액에 대응한 해외시장개척준비금을 설정할 수 있다.'], ['가등기담보권자가 제소전 화해조항에 따라 자기 명의로 소유권이전의 본등기를 경료한 후 다시 제3자에게 매매계약을 원인으로 한 가등기를 경료해준 일이 있다 하더라도 아직 채권자와의 사이에 정산절차를 밟지 아니하였고,', '위 부동산의 본등기 당시의 시가가 원리금 채무의 2배를 넘고 있었다면', '위 부동산은 채무담보로 제공되어 아직 그 채무의 변제에 충당되지 아니한 상태에 있는 경우라 할 것이고,', '따라서 양도행위가 이루어진 바 없다고 할 것이다.']]\n",
      "[['원고가  주동하여 회사업무능률을 저해하고 회사업무상의 지휘명령에 위반하였다면 이에 따른 징계해고는 사내질서를 유지하기 위한 사용자 고유의 정당한 징계권의 행사로 보아야 한다.'], ['수출입업체인 원고가 의류제품을 제조ㆍ수출함에 있어 소외 회사의 직수출실적을 지원하기 위하여 동 회사와 수출대행계약을 체결하고, 소외 회사는 수출에 실지 참여한 바 없이 명목상의 수출자에 불과할 뿐 원고가 이를 실질적으로 수출하여 그 대금에 해당하는 외화를 수입하였다 할 것이므로, 원고는 구 법인세법시행령(1983.12.31 대통령령 제10119호로 개정되기 전의 령) 제17조 제1항 제1호 소정의 수출사업을 영위하는 법인에 해당되어 그 수출금액에 대응한 해외시장개척준비금을 설정할 수 있다.'], ['가등기담보권자가 제소전 화해조항에 의해 자기 명의로 소유권이전의 본등기를 경료하고 다시 제3자에게 매매계약을 원인으로 한 가등기를 경료해주었더라도 아직 채권자와의 사이에 정산절차를 밟지 않았고 위 부동산은 본등기 당시의 시가가 원리금 채무의 2배를 넘고 있었다면 위 부동산은 채무담보로 제공되어 아직 그 채무의 변제에 충당되지 않은 상태에 있으므로 양도행위가 이루어진 바 없다고 보아야 한다.']]\n"
     ]
    }
   ],
   "source": [
    "with open('train_original.json', encoding='UTF-8' ) as file:\n",
    "    data = json.load(file)\n",
    "\n",
    "text=[]\n",
    "text_abs=[]\n",
    "\n",
    "for i in range(3):\n",
    "    sentence = data['documents'][i]['text']\n",
    "    abstractive = data['documents'][i]['abstractive']\n",
    "    \n",
    "    sen = [item['sentence'] for sublist in sentence for item in sublist]\n",
    "    sen_abs = data['documents'][i]['abstractive']\n",
    "    \n",
    "    text.append(sen)\n",
    "    text_abs.append(sen_abs)\n",
    "    \n",
    "print(text)\n",
    "print(text_abs)"
   ]
  },
  {
   "cell_type": "code",
   "execution_count": 28,
   "id": "392ebd73",
   "metadata": {},
   "outputs": [
    {
     "data": {
      "text/html": [
       "<div>\n",
       "<style scoped>\n",
       "    .dataframe tbody tr th:only-of-type {\n",
       "        vertical-align: middle;\n",
       "    }\n",
       "\n",
       "    .dataframe tbody tr th {\n",
       "        vertical-align: top;\n",
       "    }\n",
       "\n",
       "    .dataframe thead th {\n",
       "        text-align: right;\n",
       "    }\n",
       "</style>\n",
       "<table border=\"1\" class=\"dataframe\">\n",
       "  <thead>\n",
       "    <tr style=\"text-align: right;\">\n",
       "      <th></th>\n",
       "      <th>text</th>\n",
       "      <th>text_abs</th>\n",
       "    </tr>\n",
       "  </thead>\n",
       "  <tbody>\n",
       "    <tr>\n",
       "      <th>0</th>\n",
       "      <td>[원고가 소속회사의 노동조합에서 분규가 발생하자 노조활동을 구실로 정상적인 근무를 ...</td>\n",
       "      <td>[원고가  주동하여 회사업무능률을 저해하고 회사업무상의 지휘명령에 위반하였다면 이에...</td>\n",
       "    </tr>\n",
       "    <tr>\n",
       "      <th>1</th>\n",
       "      <td>[수출입업체인 원고가 의류제품을 제조ㆍ수출함에 있어 같은 그룹내 종합무역상사인 소외...</td>\n",
       "      <td>[수출입업체인 원고가 의류제품을 제조ㆍ수출함에 있어 소외 회사의 직수출실적을 지원하...</td>\n",
       "    </tr>\n",
       "    <tr>\n",
       "      <th>2</th>\n",
       "      <td>[가등기담보권자가 제소전 화해조항에 따라 자기 명의로 소유권이전의 본등기를 경료한 ...</td>\n",
       "      <td>[가등기담보권자가 제소전 화해조항에 의해 자기 명의로 소유권이전의 본등기를 경료하고...</td>\n",
       "    </tr>\n",
       "  </tbody>\n",
       "</table>\n",
       "</div>"
      ],
      "text/plain": [
       "                                                text  \\\n",
       "0  [원고가 소속회사의 노동조합에서 분규가 발생하자 노조활동을 구실로 정상적인 근무를 ...   \n",
       "1  [수출입업체인 원고가 의류제품을 제조ㆍ수출함에 있어 같은 그룹내 종합무역상사인 소외...   \n",
       "2  [가등기담보권자가 제소전 화해조항에 따라 자기 명의로 소유권이전의 본등기를 경료한 ...   \n",
       "\n",
       "                                            text_abs  \n",
       "0  [원고가  주동하여 회사업무능률을 저해하고 회사업무상의 지휘명령에 위반하였다면 이에...  \n",
       "1  [수출입업체인 원고가 의류제품을 제조ㆍ수출함에 있어 소외 회사의 직수출실적을 지원하...  \n",
       "2  [가등기담보권자가 제소전 화해조항에 의해 자기 명의로 소유권이전의 본등기를 경료하고...  "
      ]
     },
     "execution_count": 28,
     "metadata": {},
     "output_type": "execute_result"
    }
   ],
   "source": [
    "df = pd.DataFrame({'text':text ,'text_abs':text_abs})\n",
    "df"
   ]
  },
  {
   "cell_type": "code",
   "execution_count": 30,
   "id": "3042f2d9",
   "metadata": {},
   "outputs": [],
   "source": [
    "df.to_csv(\"법원판결문요약.csv\", encoding='utf-8-sig')"
   ]
  },
  {
   "cell_type": "code",
   "execution_count": null,
   "id": "204d382e",
   "metadata": {},
   "outputs": [],
   "source": []
  },
  {
   "cell_type": "markdown",
   "id": "074fb371",
   "metadata": {},
   "source": [
    "### 전체 판결문 train데이터"
   ]
  },
  {
   "cell_type": "code",
   "execution_count": 39,
   "id": "1fb94552",
   "metadata": {},
   "outputs": [],
   "source": [
    "with open('train_original.json', encoding='UTF-8' ) as file:\n",
    "    data = json.load(file)\n",
    "\n",
    "text=[]\n",
    "text_abs=[]\n",
    "\n",
    "for i in range(len(data['documents'])):\n",
    "    sentence = data['documents'][i]['text']\n",
    "    abstractive = data['documents'][i]['abstractive']\n",
    "    \n",
    "    sen = [item['sentence'] for sublist in sentence for item in sublist]\n",
    "    sen_abs = data['documents'][i]['abstractive']\n",
    "    \n",
    "    text.append(sen)\n",
    "    text_abs.append(sen_abs)\n",
    "    \n",
    "#print(text)\n",
    "#print(text_abs)\n",
    "\n",
    "df_train = pd.DataFrame({'text':text ,'text_abs':text_abs})\n",
    "df_train\n",
    "\n",
    "df_train.to_csv(\"판결문_train.csv\", encoding='utf-8-sig')"
   ]
  },
  {
   "cell_type": "markdown",
   "id": "a984ddc5",
   "metadata": {},
   "source": [
    "### 전체 판결문 validation 데이터"
   ]
  },
  {
   "cell_type": "code",
   "execution_count": 32,
   "id": "7ce58542",
   "metadata": {},
   "outputs": [],
   "source": [
    "with open('valid_original.json', encoding='UTF-8' ) as file:\n",
    "    data = json.load(file)\n",
    "\n",
    "text=[]\n",
    "text_abs=[]\n",
    "\n",
    "for i in range(len(data['documents'])):\n",
    "    sentence = data['documents'][i]['text']\n",
    "    abstractive = data['documents'][i]['abstractive']\n",
    "    \n",
    "    sen = [item['sentence'] for sublist in sentence for item in sublist]\n",
    "    sen_abs = data['documents'][i]['abstractive']\n",
    "    \n",
    "    text.append(sen)\n",
    "    text_abs.append(sen_abs)\n",
    "    \n",
    "#print(text)\n",
    "#print(text_abs)\n",
    "\n",
    "df_valid = pd.DataFrame({'text':text ,'text_abs':text_abs})\n",
    "df_valid\n",
    "\n",
    "df_valid.to_csv(\"판결문_valid.csv\", encoding='utf-8-sig')"
   ]
  },
  {
   "cell_type": "code",
   "execution_count": 41,
   "id": "68407b45",
   "metadata": {},
   "outputs": [],
   "source": [
    "data = pd.read_csv(\"판결문_train.csv\", encoding='utf8')"
   ]
  },
  {
   "cell_type": "code",
   "execution_count": 57,
   "id": "755b849d",
   "metadata": {
    "scrolled": true
   },
   "outputs": [
    {
     "data": {
      "text/html": [
       "<div>\n",
       "<style scoped>\n",
       "    .dataframe tbody tr th:only-of-type {\n",
       "        vertical-align: middle;\n",
       "    }\n",
       "\n",
       "    .dataframe tbody tr th {\n",
       "        vertical-align: top;\n",
       "    }\n",
       "\n",
       "    .dataframe thead th {\n",
       "        text-align: right;\n",
       "    }\n",
       "</style>\n",
       "<table border=\"1\" class=\"dataframe\">\n",
       "  <thead>\n",
       "    <tr style=\"text-align: right;\">\n",
       "      <th></th>\n",
       "      <th>Unnamed: 0</th>\n",
       "      <th>text</th>\n",
       "      <th>text_abs</th>\n",
       "    </tr>\n",
       "  </thead>\n",
       "  <tbody>\n",
       "    <tr>\n",
       "      <th>0</th>\n",
       "      <td>0</td>\n",
       "      <td>['원고가 소속회사의 노동조합에서 분규가 발생하자 노조활동을 구실로 정상적인 근무를...</td>\n",
       "      <td>['원고가  주동하여 회사업무능률을 저해하고 회사업무상의 지휘명령에 위반하였다면 이...</td>\n",
       "    </tr>\n",
       "    <tr>\n",
       "      <th>1</th>\n",
       "      <td>1</td>\n",
       "      <td>['수출입업체인 원고가 의류제품을 제조ㆍ수출함에 있어 같은 그룹내 종합무역상사인 소...</td>\n",
       "      <td>['수출입업체인 원고가 의류제품을 제조ㆍ수출함에 있어 소외 회사의 직수출실적을 지원...</td>\n",
       "    </tr>\n",
       "    <tr>\n",
       "      <th>2</th>\n",
       "      <td>2</td>\n",
       "      <td>['가등기담보권자가 제소전 화해조항에 따라 자기 명의로 소유권이전의 본등기를 경료한...</td>\n",
       "      <td>['가등기담보권자가 제소전 화해조항에 의해 자기 명의로 소유권이전의 본등기를 경료하...</td>\n",
       "    </tr>\n",
       "    <tr>\n",
       "      <th>3</th>\n",
       "      <td>3</td>\n",
       "      <td>['가. 부가가치세법 제22조 제3항 단서에 제1호와 제2호가 동시에 해당한다는 뜻...</td>\n",
       "      <td>['부가가치세법 제22조 제3항 단서에 제1호와 제2호가 동시에 해당한다는 의미는 ...</td>\n",
       "    </tr>\n",
       "    <tr>\n",
       "      <th>4</th>\n",
       "      <td>4</td>\n",
       "      <td>['소득세법 제116조 제1항의 규정에 의하면', '정부는 과세표준확정신고를 하여야...</td>\n",
       "      <td>['소득세법 제116조 제1항에 따르면 정부는 과세표준확정신고를 해야 할 자에 대해...</td>\n",
       "    </tr>\n",
       "    <tr>\n",
       "      <th>...</th>\n",
       "      <td>...</td>\n",
       "      <td>...</td>\n",
       "      <td>...</td>\n",
       "    </tr>\n",
       "    <tr>\n",
       "      <th>24324</th>\n",
       "      <td>24324</td>\n",
       "      <td>['건물의 실제의 지번이 240번지인 것을 착오로 같은동 242번지로 하여 소유권보...</td>\n",
       "      <td>['착오로 건물의 실제의 지번과 다르게 소유권보존등기를 한 경우 지번표시에 사소한 ...</td>\n",
       "    </tr>\n",
       "    <tr>\n",
       "      <th>24325</th>\n",
       "      <td>24325</td>\n",
       "      <td>['농지개혁법에 의한 농지의 분배불하에 있어서는 동법의 정신과 규정 등으로 보아 타...</td>\n",
       "      <td>['농지개혁법에 의한 농지의 분배불하에 있어서 타인에게 명의를 신탁하여 그 분배를 ...</td>\n",
       "    </tr>\n",
       "    <tr>\n",
       "      <th>24326</th>\n",
       "      <td>24326</td>\n",
       "      <td>['1. 쌍무계약에 있어서 당사자의 일방은 상대방이 그 채무의 이행을 제공할 때까지...</td>\n",
       "      <td>['농지개혁법 제19조 제2항 및 동법 시행규칙 제51조의 취지는 자경 또는 상환완...</td>\n",
       "    </tr>\n",
       "    <tr>\n",
       "      <th>24327</th>\n",
       "      <td>24327</td>\n",
       "      <td>['상속인 또는 그 법정대리인이 상속권침해의 사실을 안 때부터 만 6년을 경과할 때...</td>\n",
       "      <td>[\"'타인이 상속인이라고 참칭하고 불법하게 상속을 하였다'는 것은 참칭상속인이 상속...</td>\n",
       "    </tr>\n",
       "    <tr>\n",
       "      <th>24328</th>\n",
       "      <td>24328</td>\n",
       "      <td>['농지개혁법 제18조 ,', '제19조 , 제20조의 제규정을 종합하면', '농지...</td>\n",
       "      <td>['농지개혁법 제18조 , 제19조 , 제20조의 제규정을 종합하면 농지수배자가 위...</td>\n",
       "    </tr>\n",
       "  </tbody>\n",
       "</table>\n",
       "<p>24329 rows × 3 columns</p>\n",
       "</div>"
      ],
      "text/plain": [
       "       Unnamed: 0                                               text  \\\n",
       "0               0  ['원고가 소속회사의 노동조합에서 분규가 발생하자 노조활동을 구실로 정상적인 근무를...   \n",
       "1               1  ['수출입업체인 원고가 의류제품을 제조ㆍ수출함에 있어 같은 그룹내 종합무역상사인 소...   \n",
       "2               2  ['가등기담보권자가 제소전 화해조항에 따라 자기 명의로 소유권이전의 본등기를 경료한...   \n",
       "3               3  ['가. 부가가치세법 제22조 제3항 단서에 제1호와 제2호가 동시에 해당한다는 뜻...   \n",
       "4               4  ['소득세법 제116조 제1항의 규정에 의하면', '정부는 과세표준확정신고를 하여야...   \n",
       "...           ...                                                ...   \n",
       "24324       24324  ['건물의 실제의 지번이 240번지인 것을 착오로 같은동 242번지로 하여 소유권보...   \n",
       "24325       24325  ['농지개혁법에 의한 농지의 분배불하에 있어서는 동법의 정신과 규정 등으로 보아 타...   \n",
       "24326       24326  ['1. 쌍무계약에 있어서 당사자의 일방은 상대방이 그 채무의 이행을 제공할 때까지...   \n",
       "24327       24327  ['상속인 또는 그 법정대리인이 상속권침해의 사실을 안 때부터 만 6년을 경과할 때...   \n",
       "24328       24328  ['농지개혁법 제18조 ,', '제19조 , 제20조의 제규정을 종합하면', '농지...   \n",
       "\n",
       "                                                text_abs  \n",
       "0      ['원고가  주동하여 회사업무능률을 저해하고 회사업무상의 지휘명령에 위반하였다면 이...  \n",
       "1      ['수출입업체인 원고가 의류제품을 제조ㆍ수출함에 있어 소외 회사의 직수출실적을 지원...  \n",
       "2      ['가등기담보권자가 제소전 화해조항에 의해 자기 명의로 소유권이전의 본등기를 경료하...  \n",
       "3      ['부가가치세법 제22조 제3항 단서에 제1호와 제2호가 동시에 해당한다는 의미는 ...  \n",
       "4      ['소득세법 제116조 제1항에 따르면 정부는 과세표준확정신고를 해야 할 자에 대해...  \n",
       "...                                                  ...  \n",
       "24324  ['착오로 건물의 실제의 지번과 다르게 소유권보존등기를 한 경우 지번표시에 사소한 ...  \n",
       "24325  ['농지개혁법에 의한 농지의 분배불하에 있어서 타인에게 명의를 신탁하여 그 분배를 ...  \n",
       "24326  ['농지개혁법 제19조 제2항 및 동법 시행규칙 제51조의 취지는 자경 또는 상환완...  \n",
       "24327  [\"'타인이 상속인이라고 참칭하고 불법하게 상속을 하였다'는 것은 참칭상속인이 상속...  \n",
       "24328  ['농지개혁법 제18조 , 제19조 , 제20조의 제규정을 종합하면 농지수배자가 위...  \n",
       "\n",
       "[24329 rows x 3 columns]"
      ]
     },
     "execution_count": 57,
     "metadata": {},
     "output_type": "execute_result"
    }
   ],
   "source": [
    "data"
   ]
  },
  {
   "cell_type": "code",
   "execution_count": 62,
   "id": "73454403",
   "metadata": {},
   "outputs": [
    {
     "data": {
      "text/plain": [
       "str"
      ]
     },
     "execution_count": 62,
     "metadata": {},
     "output_type": "execute_result"
    }
   ],
   "source": [
    "type(data['text'][0])"
   ]
  },
  {
   "cell_type": "code",
   "execution_count": 60,
   "id": "33e25f69",
   "metadata": {
    "scrolled": true
   },
   "outputs": [
    {
     "data": {
      "text/html": [
       "<div>\n",
       "<style scoped>\n",
       "    .dataframe tbody tr th:only-of-type {\n",
       "        vertical-align: middle;\n",
       "    }\n",
       "\n",
       "    .dataframe tbody tr th {\n",
       "        vertical-align: top;\n",
       "    }\n",
       "\n",
       "    .dataframe thead th {\n",
       "        text-align: right;\n",
       "    }\n",
       "</style>\n",
       "<table border=\"1\" class=\"dataframe\">\n",
       "  <thead>\n",
       "    <tr style=\"text-align: right;\">\n",
       "      <th></th>\n",
       "      <th>text</th>\n",
       "      <th>text_abs</th>\n",
       "    </tr>\n",
       "  </thead>\n",
       "  <tbody>\n",
       "    <tr>\n",
       "      <th>0</th>\n",
       "      <td>['원고가 소속회사의 노동조합에서 분규가 발생하자 노조활동을 구실로 정상적인 근무를...</td>\n",
       "      <td>['원고가  주동하여 회사업무능률을 저해하고 회사업무상의 지휘명령에 위반하였다면 이...</td>\n",
       "    </tr>\n",
       "    <tr>\n",
       "      <th>1</th>\n",
       "      <td>['수출입업체인 원고가 의류제품을 제조ㆍ수출함에 있어 같은 그룹내 종합무역상사인 소...</td>\n",
       "      <td>['수출입업체인 원고가 의류제품을 제조ㆍ수출함에 있어 소외 회사의 직수출실적을 지원...</td>\n",
       "    </tr>\n",
       "    <tr>\n",
       "      <th>2</th>\n",
       "      <td>['가등기담보권자가 제소전 화해조항에 따라 자기 명의로 소유권이전의 본등기를 경료한...</td>\n",
       "      <td>['가등기담보권자가 제소전 화해조항에 의해 자기 명의로 소유권이전의 본등기를 경료하...</td>\n",
       "    </tr>\n",
       "    <tr>\n",
       "      <th>3</th>\n",
       "      <td>['가. 부가가치세법 제22조 제3항 단서에 제1호와 제2호가 동시에 해당한다는 뜻...</td>\n",
       "      <td>['부가가치세법 제22조 제3항 단서에 제1호와 제2호가 동시에 해당한다는 의미는 ...</td>\n",
       "    </tr>\n",
       "    <tr>\n",
       "      <th>4</th>\n",
       "      <td>['소득세법 제116조 제1항의 규정에 의하면', '정부는 과세표준확정신고를 하여야...</td>\n",
       "      <td>['소득세법 제116조 제1항에 따르면 정부는 과세표준확정신고를 해야 할 자에 대해...</td>\n",
       "    </tr>\n",
       "    <tr>\n",
       "      <th>...</th>\n",
       "      <td>...</td>\n",
       "      <td>...</td>\n",
       "    </tr>\n",
       "    <tr>\n",
       "      <th>24324</th>\n",
       "      <td>['건물의 실제의 지번이 240번지인 것을 착오로 같은동 242번지로 하여 소유권보...</td>\n",
       "      <td>['착오로 건물의 실제의 지번과 다르게 소유권보존등기를 한 경우 지번표시에 사소한 ...</td>\n",
       "    </tr>\n",
       "    <tr>\n",
       "      <th>24325</th>\n",
       "      <td>['농지개혁법에 의한 농지의 분배불하에 있어서는 동법의 정신과 규정 등으로 보아 타...</td>\n",
       "      <td>['농지개혁법에 의한 농지의 분배불하에 있어서 타인에게 명의를 신탁하여 그 분배를 ...</td>\n",
       "    </tr>\n",
       "    <tr>\n",
       "      <th>24326</th>\n",
       "      <td>['1. 쌍무계약에 있어서 당사자의 일방은 상대방이 그 채무의 이행을 제공할 때까지...</td>\n",
       "      <td>['농지개혁법 제19조 제2항 및 동법 시행규칙 제51조의 취지는 자경 또는 상환완...</td>\n",
       "    </tr>\n",
       "    <tr>\n",
       "      <th>24327</th>\n",
       "      <td>['상속인 또는 그 법정대리인이 상속권침해의 사실을 안 때부터 만 6년을 경과할 때...</td>\n",
       "      <td>[\"'타인이 상속인이라고 참칭하고 불법하게 상속을 하였다'는 것은 참칭상속인이 상속...</td>\n",
       "    </tr>\n",
       "    <tr>\n",
       "      <th>24328</th>\n",
       "      <td>['농지개혁법 제18조 ,', '제19조 , 제20조의 제규정을 종합하면', '농지...</td>\n",
       "      <td>['농지개혁법 제18조 , 제19조 , 제20조의 제규정을 종합하면 농지수배자가 위...</td>\n",
       "    </tr>\n",
       "  </tbody>\n",
       "</table>\n",
       "<p>24329 rows × 2 columns</p>\n",
       "</div>"
      ],
      "text/plain": [
       "                                                    text  \\\n",
       "0      ['원고가 소속회사의 노동조합에서 분규가 발생하자 노조활동을 구실로 정상적인 근무를...   \n",
       "1      ['수출입업체인 원고가 의류제품을 제조ㆍ수출함에 있어 같은 그룹내 종합무역상사인 소...   \n",
       "2      ['가등기담보권자가 제소전 화해조항에 따라 자기 명의로 소유권이전의 본등기를 경료한...   \n",
       "3      ['가. 부가가치세법 제22조 제3항 단서에 제1호와 제2호가 동시에 해당한다는 뜻...   \n",
       "4      ['소득세법 제116조 제1항의 규정에 의하면', '정부는 과세표준확정신고를 하여야...   \n",
       "...                                                  ...   \n",
       "24324  ['건물의 실제의 지번이 240번지인 것을 착오로 같은동 242번지로 하여 소유권보...   \n",
       "24325  ['농지개혁법에 의한 농지의 분배불하에 있어서는 동법의 정신과 규정 등으로 보아 타...   \n",
       "24326  ['1. 쌍무계약에 있어서 당사자의 일방은 상대방이 그 채무의 이행을 제공할 때까지...   \n",
       "24327  ['상속인 또는 그 법정대리인이 상속권침해의 사실을 안 때부터 만 6년을 경과할 때...   \n",
       "24328  ['농지개혁법 제18조 ,', '제19조 , 제20조의 제규정을 종합하면', '농지...   \n",
       "\n",
       "                                                text_abs  \n",
       "0      ['원고가  주동하여 회사업무능률을 저해하고 회사업무상의 지휘명령에 위반하였다면 이...  \n",
       "1      ['수출입업체인 원고가 의류제품을 제조ㆍ수출함에 있어 소외 회사의 직수출실적을 지원...  \n",
       "2      ['가등기담보권자가 제소전 화해조항에 의해 자기 명의로 소유권이전의 본등기를 경료하...  \n",
       "3      ['부가가치세법 제22조 제3항 단서에 제1호와 제2호가 동시에 해당한다는 의미는 ...  \n",
       "4      ['소득세법 제116조 제1항에 따르면 정부는 과세표준확정신고를 해야 할 자에 대해...  \n",
       "...                                                  ...  \n",
       "24324  ['착오로 건물의 실제의 지번과 다르게 소유권보존등기를 한 경우 지번표시에 사소한 ...  \n",
       "24325  ['농지개혁법에 의한 농지의 분배불하에 있어서 타인에게 명의를 신탁하여 그 분배를 ...  \n",
       "24326  ['농지개혁법 제19조 제2항 및 동법 시행규칙 제51조의 취지는 자경 또는 상환완...  \n",
       "24327  [\"'타인이 상속인이라고 참칭하고 불법하게 상속을 하였다'는 것은 참칭상속인이 상속...  \n",
       "24328  ['농지개혁법 제18조 , 제19조 , 제20조의 제규정을 종합하면 농지수배자가 위...  \n",
       "\n",
       "[24329 rows x 2 columns]"
      ]
     },
     "execution_count": 60,
     "metadata": {},
     "output_type": "execute_result"
    }
   ],
   "source": [
    "data = data.drop('Unnamed: 0', axis=1)\n",
    "data"
   ]
  },
  {
   "cell_type": "code",
   "execution_count": 80,
   "id": "de0d97b6",
   "metadata": {},
   "outputs": [
    {
     "data": {
      "text/plain": [
       "\"['원고가 소속회사의 노동조합에서 분규가 발생하자 노조활동을 구실로 정상적인 근무를 해태하고,', '노조조합장이 사임한 경우,', '노동조합규약에 동 조합장의 직무를 대행할 자를 규정해 두고 있음에도 원고 자신이 주동하여 노조자치수습대책위원회를 구성하여 그 위원장으로 피선되어 근무시간중에도 노조활동을 벌여 운수업체인 소속회사의 업무에 지장을 초래하고', '종업원들에게도 나쁜 영향을 끼쳐 소속회사가 취업규칙을 위반하고', '고의로 회사업무능률을 저해하였으며 회사업무상의 지휘명령에 위반하였음을 이유로 원고를 징계해고 하였다면,', '이는 원고의 노동조합 활동과는 관계없이 회사취업규칙에 의하여 사내질서를 유지하기 위한 사용자 고유의 징계권에 기하여 이루어진 정당한 징계권의 행사로 보아야 한다.'\""
      ]
     },
     "execution_count": 80,
     "metadata": {},
     "output_type": "execute_result"
    }
   ],
   "source": [
    "import re\n",
    "s = data['text'][0]\n",
    "s = re.sub(r'\\[,\"\\'-?:!;]', '', s)\n",
    "s = re.sub(r\"\\s*\\[*?\\]\", \"\", s)\n",
    "s"
   ]
  },
  {
   "cell_type": "code",
   "execution_count": null,
   "id": "d6c0f05a",
   "metadata": {},
   "outputs": [],
   "source": []
  },
  {
   "cell_type": "code",
   "execution_count": null,
   "id": "b3ee86cc",
   "metadata": {},
   "outputs": [],
   "source": []
  }
 ],
 "metadata": {
  "kernelspec": {
   "display_name": "Python 3 (ipykernel)",
   "language": "python",
   "name": "python3"
  },
  "language_info": {
   "codemirror_mode": {
    "name": "ipython",
    "version": 3
   },
   "file_extension": ".py",
   "mimetype": "text/x-python",
   "name": "python",
   "nbconvert_exporter": "python",
   "pygments_lexer": "ipython3",
   "version": "3.9.13"
  }
 },
 "nbformat": 4,
 "nbformat_minor": 5
}
